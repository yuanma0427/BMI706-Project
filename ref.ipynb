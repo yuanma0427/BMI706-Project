{
 "cells": [
  {
   "cell_type": "code",
   "execution_count": 3,
   "metadata": {},
   "outputs": [],
   "source": [
    "import altair as alt\n",
    "import pandas as pd"
   ]
  },
  {
   "cell_type": "code",
   "execution_count": 4,
   "metadata": {},
   "outputs": [
    {
     "data": {
      "text/html": [
       "<div>\n",
       "<style scoped>\n",
       "    .dataframe tbody tr th:only-of-type {\n",
       "        vertical-align: middle;\n",
       "    }\n",
       "\n",
       "    .dataframe tbody tr th {\n",
       "        vertical-align: top;\n",
       "    }\n",
       "\n",
       "    .dataframe thead th {\n",
       "        text-align: right;\n",
       "    }\n",
       "</style>\n",
       "<table border=\"1\" class=\"dataframe\">\n",
       "  <thead>\n",
       "    <tr style=\"text-align: right;\">\n",
       "      <th></th>\n",
       "      <th>Country</th>\n",
       "      <th>Year</th>\n",
       "      <th>Cancer</th>\n",
       "      <th>Sex</th>\n",
       "      <th>Age</th>\n",
       "      <th>Deaths</th>\n",
       "    </tr>\n",
       "  </thead>\n",
       "  <tbody>\n",
       "    <tr>\n",
       "      <th>0</th>\n",
       "      <td>Anguilla</td>\n",
       "      <td>2000</td>\n",
       "      <td>Malignant neoplasm of breast</td>\n",
       "      <td>F</td>\n",
       "      <td>Age &lt;5</td>\n",
       "      <td>0.0</td>\n",
       "    </tr>\n",
       "    <tr>\n",
       "      <th>1</th>\n",
       "      <td>Anguilla</td>\n",
       "      <td>2000</td>\n",
       "      <td>Malignant neoplasm of lip oral cavity and pharynx</td>\n",
       "      <td>M</td>\n",
       "      <td>Age &lt;5</td>\n",
       "      <td>0.0</td>\n",
       "    </tr>\n",
       "    <tr>\n",
       "      <th>2</th>\n",
       "      <td>Anguilla</td>\n",
       "      <td>2000</td>\n",
       "      <td>Malignant neoplasm of ovary</td>\n",
       "      <td>F</td>\n",
       "      <td>Age &lt;5</td>\n",
       "      <td>0.0</td>\n",
       "    </tr>\n",
       "    <tr>\n",
       "      <th>3</th>\n",
       "      <td>Anguilla</td>\n",
       "      <td>2000</td>\n",
       "      <td>Malignant neoplasm of prostate</td>\n",
       "      <td>M</td>\n",
       "      <td>Age &lt;5</td>\n",
       "      <td>0.0</td>\n",
       "    </tr>\n",
       "    <tr>\n",
       "      <th>4</th>\n",
       "      <td>Anguilla</td>\n",
       "      <td>2000</td>\n",
       "      <td>Malignant neoplasm of stomach</td>\n",
       "      <td>M</td>\n",
       "      <td>Age &lt;5</td>\n",
       "      <td>0.0</td>\n",
       "    </tr>\n",
       "  </tbody>\n",
       "</table>\n",
       "</div>"
      ],
      "text/plain": [
       "    Country  Year                                             Cancer Sex   \n",
       "0  Anguilla  2000                       Malignant neoplasm of breast   F  \\\n",
       "1  Anguilla  2000  Malignant neoplasm of lip oral cavity and pharynx   M   \n",
       "2  Anguilla  2000                        Malignant neoplasm of ovary   F   \n",
       "3  Anguilla  2000                     Malignant neoplasm of prostate   M   \n",
       "4  Anguilla  2000                      Malignant neoplasm of stomach   M   \n",
       "\n",
       "      Age  Deaths  \n",
       "0  Age <5     0.0  \n",
       "1  Age <5     0.0  \n",
       "2  Age <5     0.0  \n",
       "3  Age <5     0.0  \n",
       "4  Age <5     0.0  "
      ]
     },
     "execution_count": 4,
     "metadata": {},
     "output_type": "execute_result"
    }
   ],
   "source": [
    "cancer_df = pd.read_csv(\"https://raw.githubusercontent.com/hms-dbmi/bmi706-2022/main/cancer_data/cancer_ICD10.csv\").melt(  # type: ignore\n",
    "        id_vars=[\"Country\", \"Year\", \"Cancer\", \"Sex\"],\n",
    "        var_name=\"Age\",\n",
    "        value_name=\"Deaths\",\n",
    "    )\n",
    "cancer_df.head()"
   ]
  },
  {
   "cell_type": "code",
   "execution_count": null,
   "metadata": {},
   "outputs": [],
   "source": []
  }
 ],
 "metadata": {
  "kernelspec": {
   "display_name": "jupyter",
   "language": "python",
   "name": "python3"
  },
  "language_info": {
   "codemirror_mode": {
    "name": "ipython",
    "version": 3
   },
   "file_extension": ".py",
   "mimetype": "text/x-python",
   "name": "python",
   "nbconvert_exporter": "python",
   "pygments_lexer": "ipython3",
   "version": "3.11.0"
  }
 },
 "nbformat": 4,
 "nbformat_minor": 2
}
